{
 "cells": [
  {
   "cell_type": "code",
   "execution_count": 2,
   "id": "4f3f2bc3",
   "metadata": {},
   "outputs": [],
   "source": [
    "import numpy as np \n",
    "import pandas as pd\n",
    "import yfinance as yf\n",
    "from scipy.stats import norm"
   ]
  },
  {
   "cell_type": "markdown",
   "id": "788687b0",
   "metadata": {},
   "source": [
    "calculating for d1 and d2"
   ]
  },
  {
   "cell_type": "code",
   "execution_count": 14,
   "id": "6dc08443",
   "metadata": {},
   "outputs": [],
   "source": [
    "def d1(s,k,r,stdev,T):\n",
    "    return(np.log(s/k)+(r + stdev**2 /2)* T)/ (stdev * np.sqrt(T))\n",
    "def d2(s,k,r,stdev,T):\n",
    "    return(np.log(s/k)+(r + stdev**2 /2)* T)/ (stdev * np.sqrt(T))"
   ]
  },
  {
   "cell_type": "code",
   "execution_count": 4,
   "id": "b5159281",
   "metadata": {},
   "outputs": [
    {
     "data": {
      "text/plain": [
       "0.5"
      ]
     },
     "execution_count": 4,
     "metadata": {},
     "output_type": "execute_result"
    }
   ],
   "source": [
    "norm.cdf(0)"
   ]
  },
  {
   "cell_type": "code",
   "execution_count": 5,
   "id": "a0b1d60a",
   "metadata": {},
   "outputs": [
    {
     "data": {
      "text/plain": [
       "0.7733726476231317"
      ]
     },
     "execution_count": 5,
     "metadata": {},
     "output_type": "execute_result"
    }
   ],
   "source": [
    "norm.cdf(0.75)"
   ]
  },
  {
   "cell_type": "markdown",
   "id": "2d4bdaf2",
   "metadata": {},
   "source": [
    "BLACK SHORES FUNNCTION\n",
    "C = SN(d1) - Ke^(rt) N(d2)"
   ]
  },
  {
   "cell_type": "code",
   "execution_count": 7,
   "id": "84dabfda",
   "metadata": {},
   "outputs": [],
   "source": [
    "def BSM(s,k,r,stdev, T):\n",
    "    return(s*norm.cdf(d1(s,k,r,stdev,T))) - (k* np.exp(-r*T) * norm.cdf(d2(s,k,r,stdev,T)))"
   ]
  },
  {
   "cell_type": "code",
   "execution_count": 8,
   "id": "e572434a",
   "metadata": {},
   "outputs": [
    {
     "name": "stdout",
     "output_type": "stream",
     "text": [
      "[*********************100%***********************]  1 of 1 completed\n"
     ]
    }
   ],
   "source": [
    "ticker = 'PG'\n",
    "data = yf.download(ticker, start = '2007-1-1',end = '2017-3-21')['Adj Close']"
   ]
  },
  {
   "cell_type": "code",
   "execution_count": 9,
   "id": "8b8c2eae",
   "metadata": {},
   "outputs": [
    {
     "data": {
      "text/plain": [
       "75.88064575195312"
      ]
     },
     "execution_count": 9,
     "metadata": {},
     "output_type": "execute_result"
    }
   ],
   "source": [
    "s = data.iloc[-1]\n",
    "s"
   ]
  },
  {
   "cell_type": "code",
   "execution_count": 10,
   "id": "9cddf0d8",
   "metadata": {},
   "outputs": [],
   "source": [
    "log_returns = np.log(1 + data.pct_change())"
   ]
  },
  {
   "cell_type": "code",
   "execution_count": 11,
   "id": "1250fe6e",
   "metadata": {},
   "outputs": [
    {
     "data": {
      "text/plain": [
       "0.1765843256284649"
      ]
     },
     "execution_count": 11,
     "metadata": {},
     "output_type": "execute_result"
    }
   ],
   "source": [
    "stdev = log_returns.std()* 250 ** 0.5\n",
    "stdev"
   ]
  },
  {
   "cell_type": "code",
   "execution_count": 12,
   "id": "b055e7dd",
   "metadata": {},
   "outputs": [],
   "source": [
    "r = 0.025\n",
    "k = 110.0\n",
    "T = 1"
   ]
  },
  {
   "cell_type": "code",
   "execution_count": 15,
   "id": "c61f5d6c",
   "metadata": {},
   "outputs": [
    {
     "data": {
      "text/plain": [
       "-1.8729165082041161"
      ]
     },
     "execution_count": 15,
     "metadata": {},
     "output_type": "execute_result"
    }
   ],
   "source": [
    "d1(s,k,r,stdev,T)"
   ]
  },
  {
   "cell_type": "code",
   "execution_count": 16,
   "id": "aa305141",
   "metadata": {},
   "outputs": [
    {
     "data": {
      "text/plain": [
       "-1.8729165082041161"
      ]
     },
     "execution_count": 16,
     "metadata": {},
     "output_type": "execute_result"
    }
   ],
   "source": [
    "d2(s,k,r,stdev,T)"
   ]
  },
  {
   "cell_type": "code",
   "execution_count": 17,
   "id": "08ac20c4",
   "metadata": {},
   "outputs": [
    {
     "data": {
      "text/plain": [
       "-0.9590598657650871"
      ]
     },
     "execution_count": 17,
     "metadata": {},
     "output_type": "execute_result"
    }
   ],
   "source": [
    "BSM(s,k,r,stdev,T)"
   ]
  },
  {
   "cell_type": "markdown",
   "id": "5ff8ea6a",
   "metadata": {},
   "source": [
    "this helps us predict random future price based on the data"
   ]
  }
 ],
 "metadata": {
  "kernelspec": {
   "display_name": "Python 3 (ipykernel)",
   "language": "python",
   "name": "python3"
  },
  "language_info": {
   "codemirror_mode": {
    "name": "ipython",
    "version": 3
   },
   "file_extension": ".py",
   "mimetype": "text/x-python",
   "name": "python",
   "nbconvert_exporter": "python",
   "pygments_lexer": "ipython3",
   "version": "3.9.12"
  }
 },
 "nbformat": 4,
 "nbformat_minor": 5
}
